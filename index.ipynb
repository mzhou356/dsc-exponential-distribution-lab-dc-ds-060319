{
 "cells": [
  {
   "cell_type": "markdown",
   "metadata": {},
   "source": [
    "# Exponential Distributions - Lab\n",
    "\n",
    "## Introduction\n",
    "\n",
    "In this lesson, we'll make use of newfound knowledge of the **_Exponential Distribution_** to answer some real-world questions!\n",
    "\n",
    "## Objectives\n",
    "\n",
    "You will be able to:\n",
    "\n",
    "* Understand and explain the Exponential Distribution and its use cases.\n",
    "\n",
    "## Getting Started\n",
    "\n",
    "Before we can begin answering questions, it will probably be helpful to write some python functions to quickly calculate the **PDF** and **CDF** for us.  \n",
    "\n",
    "For reference, here are the functions we'll want to implement.\n",
    "\n",
    "### Probability Density Function\n",
    "\n",
    "$$PDF(x) = \\lambda e^{- \\lambda x}$$\n",
    "\n",
    "###   Cumulative Density Function\n",
    "\n",
    "$$CDF(x) = 1 - e^{- \\lambda x}$$\n",
    "\n",
    "In the cell below, complete the following functions."
   ]
  },
  {
   "cell_type": "code",
   "execution_count": 1,
   "metadata": {},
   "outputs": [],
   "source": [
    "import numpy as np\n",
    "\n",
    "def exp_pdf(mu, x):\n",
    "    return 1/mu*np.exp(-1/mu*x)\n",
    "    \n",
    "def exp_cdf(mu, x):\n",
    "    return 1-np.exp(-1/mu*x)"
   ]
  },
  {
   "cell_type": "markdown",
   "metadata": {},
   "source": [
    "Great! Now, lets answer some questions.\n",
    "\n",
    "## Question 1 \n",
    "\n",
    "Steven is picking up a friend at the airport, and their plane is late. The late flight is 22 minutes behind schedule.  What is the probability that Steven will wait 30 minutes or less for his friend's flight to land?"
   ]
  },
  {
   "cell_type": "code",
   "execution_count": 2,
   "metadata": {},
   "outputs": [
    {
     "data": {
      "text/plain": [
       "0.7442708400868994"
      ]
     },
     "execution_count": 2,
     "metadata": {},
     "output_type": "execute_result"
    }
   ],
   "source": [
    "exp_cdf(22,30)\n",
    " # Expected Output: 0.7442708400868994"
   ]
  },
  {
   "cell_type": "markdown",
   "metadata": {},
   "source": [
    "## Question 2\n",
    "\n",
    "The average student takes 44 minutes to complete a test.  What is the probability that the fastest student in the class will take more than 38 minutes to complete the test?"
   ]
  },
  {
   "cell_type": "code",
   "execution_count": 5,
   "metadata": {},
   "outputs": [
    {
     "data": {
      "text/plain": [
       "0.4216261054870035"
      ]
     },
     "execution_count": 5,
     "metadata": {},
     "output_type": "execute_result"
    }
   ],
   "source": [
    "1-exp_cdf(44,38)\n",
    "# Expected Output: 0.4216261054870035"
   ]
  },
  {
   "cell_type": "markdown",
   "metadata": {},
   "source": [
    "## Question 3\n",
    "\n",
    "The first customer of the day walks into a store 6 minutes after the store opens, on average.  What is the probability that a customer shows up within 8 minutes of opening tomorrow?"
   ]
  },
  {
   "cell_type": "code",
   "execution_count": 7,
   "metadata": {},
   "outputs": [
    {
     "data": {
      "text/plain": [
       "0.7364028618842733"
      ]
     },
     "execution_count": 7,
     "metadata": {},
     "output_type": "execute_result"
    }
   ],
   "source": [
    "exp_cdf(6,8)\n",
    "# Expected Output: 0.7364028618842733"
   ]
  },
  {
   "cell_type": "markdown",
   "metadata": {},
   "source": [
    "## Question 4\n",
    "\n",
    "The average interval that calls come in at a call center is 8 seconds. Plot the probability density function for a call happening at each second between 0 and 30 seconds (you can look at intervals of 0.5 seconds only.\n",
    "\n",
    "\n",
    "What is the probability that the next call will happen in 7 seconds?"
   ]
  },
  {
   "cell_type": "code",
   "execution_count": 18,
   "metadata": {},
   "outputs": [
    {
     "data": {
      "text/plain": [
       "[8.0,\n",
       " 0.14652511110987343,\n",
       " 0.002683701023220095,\n",
       " 4.915369882662568e-05,\n",
       " 9.002813977540729e-07,\n",
       " 1.6489228979508463e-08,\n",
       " 3.020107635423278e-10,\n",
       " 5.5315200855521624e-12,\n",
       " 1.013133243927534e-13,\n",
       " 1.8556182641948557e-15,\n",
       " 3.398683404233271e-17,\n",
       " 6.224905792907037e-19,\n",
       " 1.1401312661927481e-20,\n",
       " 2.0882232557341638e-22,\n",
       " 3.824714307108375e-24,\n",
       " 7.005208610157216e-26,\n",
       " 1.2830487124389103e-27,\n",
       " 2.3499856893686422e-29,\n",
       " 4.304148928016911e-31,\n",
       " 7.883323748889006e-33,\n",
       " 1.4438811102763322e-34,\n",
       " 2.6445605014085875e-36,\n",
       " 4.843681516320949e-38,\n",
       " 8.871512154497092e-40,\n",
       " 1.6248741301878487e-41,\n",
       " 2.976060780816669e-43,\n",
       " 5.4508454572362387e-45,\n",
       " 9.98357170330361e-47,\n",
       " 1.8285549413749373e-48,\n",
       " 3.349115199443385e-50,\n",
       " 6.1341184589776e-52,\n",
       " 1.123502985953523e-53,\n",
       " 2.057767498113932e-55,\n",
       " 3.768932641242877e-57,\n",
       " 6.903040925296767e-59,\n",
       " 1.2643360482188904e-60,\n",
       " 2.3157122493186402e-62,\n",
       " 4.241374932873859e-64,\n",
       " 7.768349166224677e-66,\n",
       " 1.4228227809017045e-67,\n",
       " 2.605990825766017e-69,\n",
       " 4.773038691208456e-71,\n",
       " 8.742125307013049e-73,\n",
       " 1.6011761024331543e-74,\n",
       " 2.9326563289436504e-76,\n",
       " 5.371347430569275e-78,\n",
       " 9.837965988423702e-80,\n",
       " 1.8018863244361737e-81,\n",
       " 3.300269923692148e-83,\n",
       " 6.044655215769569e-85,\n",
       " 1.10711722138939e-86,\n",
       " 2.027755923446684e-88,\n",
       " 3.7139645248341175e-90,\n",
       " 6.802363308243093e-92,\n",
       " 1.245896299437557e-93,\n",
       " 2.281938671330852e-95,\n",
       " 4.179516467033376e-97,\n",
       " 7.655051433970139e-99,\n",
       " 1.4020715773928381e-100,\n",
       " 2.5679836707685144e-102,\n",
       " 4.7034261585962156e-104]"
      ]
     },
     "execution_count": 18,
     "metadata": {},
     "output_type": "execute_result"
    }
   ],
   "source": [
    "# Create a list to contain the pdf-values\n",
    "time_intervals = list(np.arange(0,30.5,0.5))\n",
    "pdf_values =[exp_pdf(1/8, x) for x in time_intervals]\n",
    "# Create the plot\n",
    "\n",
    "x"
   ]
  },
  {
   "cell_type": "markdown",
   "metadata": {},
   "source": [
    "## Question 5\n",
    "\n",
    "The average earthquake in a given region happens every 7 weeks.  What is probability that the next earthquake happens between 5 and 8 weeks from now?\n",
    "\n",
    "**_Hint:_** This has both an upper and lower bound.  You'll need to do some arithmetic to solve this one. "
   ]
  },
  {
   "cell_type": "code",
   "execution_count": null,
   "metadata": {},
   "outputs": [],
   "source": [
    "lower_bound = None\n",
    "upper_bound  = None\n",
    "\n",
    "print(\"Probability of earthquake before 5 weeks: {}%\".format(lower_bound * 100))\n",
    "print(\"Probability of earthquake before 8 weeks: {}%\".format(upper_bound * 100))\n",
    "print(\"Probability of earthquake between 5 - 8 weeks: {}%\".format((upper_bound - lower_bound) * 100))\n",
    "\n",
    "# Expected Output: \n",
    "# \n",
    "# Probability of earthquake before 5 weeks: 51.045834044304684%\n",
    "# Probability of earthquake before 8 weeks: 68.10934426760295%\n",
    "# Probability of earthquake between 5 - 8 weeks: 17.063510223298273%"
   ]
  },
  {
   "cell_type": "markdown",
   "metadata": {},
   "source": [
    "## Summary\n",
    "\n",
    "In this lesson, you solved some real-world problems using the PDF and CDF for the Exponential Distribution!"
   ]
  }
 ],
 "metadata": {
  "kernelspec": {
   "display_name": "Python 3",
   "language": "python",
   "name": "python3"
  },
  "language_info": {
   "codemirror_mode": {
    "name": "ipython",
    "version": 3
   },
   "file_extension": ".py",
   "mimetype": "text/x-python",
   "name": "python",
   "nbconvert_exporter": "python",
   "pygments_lexer": "ipython3",
   "version": "3.6.6"
  }
 },
 "nbformat": 4,
 "nbformat_minor": 2
}
